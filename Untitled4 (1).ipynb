{
 "cells": [
  {
   "cell_type": "code",
   "execution_count": 3,
   "id": "28e4f98f-65b0-4440-ba08-5db3839c8cca",
   "metadata": {},
   "outputs": [
    {
     "name": "stdout",
     "output_type": "stream",
     "text": [
      "please enter the temperature\n"
     ]
    },
    {
     "name": "stdin",
     "output_type": "stream",
     "text": [
      " 50\n"
     ]
    },
    {
     "name": "stdout",
     "output_type": "stream",
     "text": [
      "It's a hot day. Stay hydrated!\n"
     ]
    }
   ],
   "source": [
    "print ( \"please enter the temperature\")\n",
    "temp = int(input ()) \n",
    "if temp > 30 or temp == 30 :\n",
    "    print (\"It's a hot day. Stay hydrated!\" )\n",
    "elif temp >= 20 and temp <= 29 :\n",
    "    print (\"It's a warm day. Enjoy the weather!\" )\n",
    "elif temp >= 10 and temp <= 19 :\n",
    "    Print (\"It's a cool day. Wear a jacket!\" )\n",
    "elif temp < 10 :\n",
    "    print (\"It's a cold day. Stay warm!\" )\n",
    "    \n",
    "\n",
    "\n"
   ]
  },
  {
   "cell_type": "code",
   "execution_count": null,
   "id": "3ad3e887-cae4-4c5a-86c1-147302f9be09",
   "metadata": {},
   "outputs": [],
   "source": []
  }
 ],
 "metadata": {
  "kernelspec": {
   "display_name": "Python [conda env:base] *",
   "language": "python",
   "name": "conda-base-py"
  },
  "language_info": {
   "codemirror_mode": {
    "name": "ipython",
    "version": 3
   },
   "file_extension": ".py",
   "mimetype": "text/x-python",
   "name": "python",
   "nbconvert_exporter": "python",
   "pygments_lexer": "ipython3",
   "version": "3.13.5"
  }
 },
 "nbformat": 4,
 "nbformat_minor": 5
}
